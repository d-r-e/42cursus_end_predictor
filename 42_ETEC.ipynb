{
  "nbformat": 4,
  "nbformat_minor": 0,
  "metadata": {
    "colab": {
      "name": "42_ETEC.ipynb",
      "provenance": [],
      "authorship_tag": "ABX9TyPpzdTqNeC5ghYBHU8UIKVD",
      "include_colab_link": true
    },
    "kernelspec": {
      "name": "python3",
      "display_name": "Python 3"
    }
  },
  "cells": [
    {
      "cell_type": "markdown",
      "metadata": {
        "id": "view-in-github",
        "colab_type": "text"
      },
      "source": [
        "<a href=\"https://colab.research.google.com/github/d-r-e/42cursus_end_predictor/blob/main/42_ETEC.ipynb\" target=\"_parent\"><img src=\"https://colab.research.google.com/assets/colab-badge.svg\" alt=\"Open In Colab\"/></a>"
      ]
    },
    {
      "cell_type": "code",
      "metadata": {
        "id": "9DRmyV2T8GY8"
      },
      "source": [
        "from datetime import date, datetime\r\n",
        "import pandas as pd\r\n",
        "import matplotlib.pyplot as plt\r\n",
        "import numpy as np\r\n",
        "from sklearn.linear_model import LinearRegression"
      ],
      "execution_count": null,
      "outputs": []
    },
    {
      "cell_type": "code",
      "metadata": {
        "id": "v84SjVXt8nOM"
      },
      "source": [
        "def yday(dt):\r\n",
        "  return dt.timetuple().tm_yday"
      ],
      "execution_count": null,
      "outputs": []
    },
    {
      "cell_type": "code",
      "metadata": {
        "colab": {
          "base_uri": "https://localhost:8080/"
        },
        "id": "7D2zgW8m9VXa",
        "outputId": "8c91c495-8f5d-42e0-efd1-449bcd4d029e"
      },
      "source": [
        "yday(date.today())"
      ],
      "execution_count": null,
      "outputs": [
        {
          "output_type": "execute_result",
          "data": {
            "text/plain": [
              "44"
            ]
          },
          "metadata": {
            "tags": []
          },
          "execution_count": 89
        }
      ]
    },
    {
      "cell_type": "code",
      "metadata": {
        "id": "V86mUpqI9dHk"
      },
      "source": [
        "df = pd.DataFrame()"
      ],
      "execution_count": null,
      "outputs": []
    },
    {
      "cell_type": "code",
      "metadata": {
        "id": "n30OoLr69wEZ"
      },
      "source": [
        "dates = [\r\n",
        "         \"04-11-2019\",\r\n",
        "         \"21-11-2019\",\r\n",
        "         \"28-11-2019\",\r\n",
        "         \"17-12-2019\",\r\n",
        "         \"27-12-2019\",\r\n",
        "         \"17-02-2020\",\r\n",
        "         \"20-02-2020\",\r\n",
        "         \"01-07-2020\",\r\n",
        "         \"23-07-2020\",\r\n",
        "         \"12-08-2020\",\r\n",
        "         \"03-09-2020\",\r\n",
        "         \"14-10-2020\",\r\n",
        "         \"20-10-2020\",\r\n",
        "         ]"
      ],
      "execution_count": null,
      "outputs": []
    },
    {
      "cell_type": "code",
      "metadata": {
        "id": "kwMgqGlm_g-E"
      },
      "source": [
        "grades = [\r\n",
        "          0, 1.23, 1.69, 2.03, 2.30, 3.11, 3.31, 3.90, 4.04, 4.81, 5.04, 5.86, 6.60\r\n",
        "]"
      ],
      "execution_count": null,
      "outputs": []
    },
    {
      "cell_type": "code",
      "metadata": {
        "id": "Rlze9z3l-TtO"
      },
      "source": [
        "fdates =[datetime.strptime(dt, '%d-%m-%Y') for dt in dates]"
      ],
      "execution_count": null,
      "outputs": []
    },
    {
      "cell_type": "code",
      "metadata": {
        "colab": {
          "base_uri": "https://localhost:8080/"
        },
        "id": "7JrR48uC-k4b",
        "outputId": "9a7b5258-ea6d-45f5-cd68-ee7c0a080e2f"
      },
      "source": [
        "fdates"
      ],
      "execution_count": null,
      "outputs": [
        {
          "output_type": "execute_result",
          "data": {
            "text/plain": [
              "[datetime.datetime(2019, 11, 4, 0, 0),\n",
              " datetime.datetime(2019, 11, 21, 0, 0),\n",
              " datetime.datetime(2019, 11, 28, 0, 0),\n",
              " datetime.datetime(2019, 12, 17, 0, 0),\n",
              " datetime.datetime(2019, 12, 27, 0, 0),\n",
              " datetime.datetime(2020, 2, 17, 0, 0),\n",
              " datetime.datetime(2020, 2, 20, 0, 0),\n",
              " datetime.datetime(2020, 7, 1, 0, 0),\n",
              " datetime.datetime(2020, 7, 23, 0, 0),\n",
              " datetime.datetime(2020, 8, 12, 0, 0),\n",
              " datetime.datetime(2020, 9, 3, 0, 0),\n",
              " datetime.datetime(2020, 10, 14, 0, 0),\n",
              " datetime.datetime(2020, 10, 20, 0, 0)]"
            ]
          },
          "metadata": {
            "tags": []
          },
          "execution_count": 93
        }
      ]
    },
    {
      "cell_type": "code",
      "metadata": {
        "id": "nCA72dgA_Ct_"
      },
      "source": [
        "ndates = [yday(x) + (x.year *365 - 2019*365) - 308 for x in fdates]"
      ],
      "execution_count": null,
      "outputs": []
    },
    {
      "cell_type": "code",
      "metadata": {
        "colab": {
          "base_uri": "https://localhost:8080/"
        },
        "id": "o0INVOH5_gQm",
        "outputId": "c32952ac-85f9-432b-ce0b-ac562e49044d"
      },
      "source": [
        "ndates"
      ],
      "execution_count": null,
      "outputs": [
        {
          "output_type": "execute_result",
          "data": {
            "text/plain": [
              "[0, 17, 24, 43, 53, 105, 108, 240, 262, 282, 304, 345, 351]"
            ]
          },
          "metadata": {
            "tags": []
          },
          "execution_count": 95
        }
      ]
    },
    {
      "cell_type": "code",
      "metadata": {
        "colab": {
          "base_uri": "https://localhost:8080/",
          "height": 282
        },
        "id": "uvCnKJFLBN0n",
        "outputId": "f4f83be9-e1d0-4983-d536-7ca00c9c2410"
      },
      "source": [
        "plt.plot(ndates, grades)"
      ],
      "execution_count": null,
      "outputs": [
        {
          "output_type": "execute_result",
          "data": {
            "text/plain": [
              "[<matplotlib.lines.Line2D at 0x7f36013eb5c0>]"
            ]
          },
          "metadata": {
            "tags": []
          },
          "execution_count": 97
        },
        {
          "output_type": "display_data",
          "data": {
            "image/png": "[encoded data removed]",
            "text/plain": [
              "<Figure size 432x288 with 1 Axes>"
            ]
          },
          "metadata": {
            "tags": [],
            "needs_background": "light"
          }
        }
      ]
    },
    {
      "cell_type": "code",
      "metadata": {
        "colab": {
          "base_uri": "https://localhost:8080/"
        },
        "id": "YeOLjW5NBewG",
        "outputId": "eed59bec-43ca-4b7f-eb2d-9a9dc87a3cfb"
      },
      "source": [
        "lr = LinearRegression()\r\n",
        "lr.fit(np.array(grades).reshape(-1, 1), np.array(ndates).reshape(-1, 1))"
      ],
      "execution_count": null,
      "outputs": [
        {
          "output_type": "execute_result",
          "data": {
            "text/plain": [
              "LinearRegression(copy_X=True, fit_intercept=True, n_jobs=None, normalize=False)"
            ]
          },
          "metadata": {
            "tags": []
          },
          "execution_count": 109
        }
      ]
    },
    {
      "cell_type": "code",
      "metadata": {
        "id": "WmTRFHFtCO9G"
      },
      "source": [
        "end_date = lr.predict(np.array([21]).reshape(-1,1))\r\n",
        "end_date = end_date[0][0]"
      ],
      "execution_count": null,
      "outputs": []
    },
    {
      "cell_type": "code",
      "metadata": {
        "colab": {
          "base_uri": "https://localhost:8080/"
        },
        "id": "WKOX24wwC_-g",
        "outputId": "e19a5464-b49a-472b-d6ff-e97011703dc8"
      },
      "source": [
        "print(int(1352.30701552/365)) ##years"
      ],
      "execution_count": null,
      "outputs": [
        {
          "output_type": "stream",
          "text": [
            "3\n"
          ],
          "name": "stdout"
        }
      ]
    },
    {
      "cell_type": "code",
      "metadata": {
        "colab": {
          "base_uri": "https://localhost:8080/"
        },
        "id": "6_nyXaFvDYIu",
        "outputId": "98b59f08-3b40-4c0e-a6d1-cd1fdae0ba20"
      },
      "source": [
        "print(int(end_date % 365)) ##days"
      ],
      "execution_count": null,
      "outputs": [
        {
          "output_type": "stream",
          "text": [
            "257\n"
          ],
          "name": "stdout"
        }
      ]
    },
    {
      "cell_type": "code",
      "metadata": {
        "id": "lRPNiYZoD8Nw"
      },
      "source": [
        ""
      ],
      "execution_count": null,
      "outputs": []
    }
  ]
}